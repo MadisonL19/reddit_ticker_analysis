{
 "cells": [
  {
   "cell_type": "code",
   "execution_count": 12,
   "metadata": {},
   "outputs": [],
   "source": [
    "import FundamentalAnalysis as fa\n",
    "from config import FMP_API_Key"
   ]
  },
  {
   "cell_type": "code",
   "execution_count": 13,
   "metadata": {},
   "outputs": [
    {
     "name": "stdout",
     "output_type": "stream",
     "text": [
      "                                                      name     price  \\\n",
      "symbol                                                                 \n",
      "SPY                                           SPDR S&P 500  392.9650   \n",
      "CMCSA                                         Comcast Corp   56.0750   \n",
      "KMI                                      Kinder Morgan Inc   15.8450   \n",
      "INTC                                            Intel Corp   66.0250   \n",
      "MU                                   Micron Technology Inc   92.0299   \n",
      "...                                                    ...       ...   \n",
      "3023.HK  Ping An of China Trust - Ping An Nasdaq AI and...  138.5500   \n",
      "3187.HK  Samsung ETFs Trust II - Samsung S&P High Divid...   21.4600   \n",
      "3198.HK  Ping An of China Trust - Ping An Nasdaq 5HANDL...   92.7000   \n",
      "FIGB                    Fidelity Investment Grade Bond ETF   49.3700   \n",
      "FSEC             Fidelity Investment Grade Securitized ETF   49.7300   \n",
      "\n",
      "                        exchange  \n",
      "symbol                            \n",
      "SPY                    NYSE Arca  \n",
      "CMCSA       Nasdaq Global Select  \n",
      "KMI      New York Stock Exchange  \n",
      "INTC        Nasdaq Global Select  \n",
      "MU          Nasdaq Global Select  \n",
      "...                          ...  \n",
      "3023.HK                     HKSE  \n",
      "3187.HK                     HKSE  \n",
      "3198.HK                     HKSE  \n",
      "FIGB                    NYSEArca  \n",
      "FSEC                    NYSEArca  \n",
      "\n",
      "[29526 rows x 3 columns]\n"
     ]
    }
   ],
   "source": [
    "ticker = \"AAPL\"\n",
    "api_key = FMP_API_Key\n",
    "\n",
    "# Show the available companies\n",
    "companies = fa.available_companies(api_key)\n",
    "print(companies)"
   ]
  },
  {
   "cell_type": "code",
   "execution_count": null,
   "metadata": {},
   "outputs": [],
   "source": [
    "# Collect general company information\n",
    "profile = fa.profile(ticker, api_key)\n",
    "print(profile)"
   ]
  },
  {
   "cell_type": "code",
   "execution_count": null,
   "metadata": {},
   "outputs": [],
   "source": [
    "# Collect recent company quotes\n",
    "quotes = fa.quote(ticker, api_key)\n",
    "print(quotes)"
   ]
  },
  {
   "cell_type": "code",
   "execution_count": null,
   "metadata": {},
   "outputs": [],
   "source": [
    "# Collect market cap and enterprise value\n",
    "entreprise_value = fa.enterprise(ticker, api_key)\n",
    "print(entreprise_value)"
   ]
  },
  {
   "cell_type": "code",
   "execution_count": null,
   "metadata": {},
   "outputs": [],
   "source": [
    "# Show recommendations of Analysts\n",
    "ratings = fa.rating(ticker, api_key)\n",
    "print(ratings)"
   ]
  },
  {
   "cell_type": "code",
   "execution_count": null,
   "metadata": {},
   "outputs": [],
   "source": [
    "# Obtain DCFs over time\n",
    "dcf_annually = fa.discounted_cash_flow(ticker, api_key, period=\"annual\")\n",
    "dcf_quarterly = fa.discounted_cash_flow(ticker, api_key, period=\"quarter\")\n",
    "print(dcf_annually)\n",
    "print(dcf_quarterly)"
   ]
  },
  {
   "cell_type": "code",
   "execution_count": null,
   "metadata": {},
   "outputs": [],
   "source": [
    "# Collect the Balance Sheet statements\n",
    "balance_sheet_annually = fa.balance_sheet_statement(ticker, api_key, period=\"annual\")\n",
    "balance_sheet_quarterly = fa.balance_sheet_statement(ticker, api_key, period=\"quarter\")\n",
    "print(balance_sheet_annually)\n",
    "print(balance_sheet_quarterly)"
   ]
  },
  {
   "cell_type": "code",
   "execution_count": null,
   "metadata": {},
   "outputs": [],
   "source": [
    "# Collect the Income Statements\n",
    "income_statement_annually = fa.income_statement(ticker, api_key, period=\"annual\")\n",
    "income_statement_quarterly = fa.income_statement(ticker, api_key, period=\"quarter\")\n",
    "print(income_statement_annually)\n",
    "print(income_statement_quarterly)"
   ]
  },
  {
   "cell_type": "code",
   "execution_count": null,
   "metadata": {},
   "outputs": [],
   "source": [
    "# Collect the Cash Flow Statements\n",
    "cash_flow_statement_annually = fa.cash_flow_statement(ticker, api_key, period=\"annual\")\n",
    "cash_flow_statement_quarterly = fa.cash_flow_statement(ticker, api_key, period=\"quarter\")\n",
    "print(cash_flow_statement_annually)\n",
    "print(cash_flow_statement_quarterly)"
   ]
  },
  {
   "cell_type": "code",
   "execution_count": null,
   "metadata": {},
   "outputs": [],
   "source": [
    "# Show Key Metrics\n",
    "key_metrics_annually = fa.key_metrics(ticker, api_key, period=\"annual\")\n",
    "key_metrics_quarterly = fa.key_metrics(ticker, api_key, period=\"quarter\")\n",
    "print(key_metrics_annually)\n",
    "print(key_metrics_quarterly)"
   ]
  },
  {
   "cell_type": "code",
   "execution_count": null,
   "metadata": {},
   "outputs": [],
   "source": [
    "# Show a large set of in-depth ratios\n",
    "financial_ratios_annually = fa.financial_ratios(ticker, api_key, period=\"annual\")\n",
    "financial_ratios_quarterly = fa.financial_ratios(ticker, api_key, period=\"quarter\")\n",
    "print(financial_ratios_annually)\n",
    "print(financial_ratios_quarterly)"
   ]
  },
  {
   "cell_type": "code",
   "execution_count": null,
   "metadata": {},
   "outputs": [],
   "source": [
    "# Show the growth of the company\n",
    "growth_annually = fa.financial_statement_growth(ticker, api_key, period=\"annual\")\n",
    "growth_quarterly = fa.financial_statement_growth(ticker, api_key, period=\"quarter\")\n",
    "print(growth_annually)\n",
    "print(growth_quarterly)"
   ]
  },
  {
   "cell_type": "code",
   "execution_count": null,
   "metadata": {},
   "outputs": [],
   "source": [
    "#Download general stock data\n",
    "stock_data = fa.stock_data(ticker, period=\"ytd\", interval=\"1d\")\n",
    "print(stock_data)"
   ]
  },
  {
   "cell_type": "code",
   "execution_count": 15,
   "metadata": {},
   "outputs": [],
   "source": [
    "# Download detailed stock data\n",
    "stock_data_detailed = fa.stock_data_detailed(ticker, api_key, begin=\"2000-01-01\", end=\"2020-01-01\")\n",
    "print(stock_data_detailed)"
   ]
  },
  {
   "cell_type": "code",
   "execution_count": null,
   "metadata": {},
   "outputs": [],
   "source": []
  }
 ],
 "metadata": {
  "kernelspec": {
   "display_name": "Python [conda env:PythonData]",
   "language": "python",
   "name": "conda-env-PythonData-py"
  },
  "language_info": {
   "codemirror_mode": {
    "name": "ipython",
    "version": 3
   },
   "file_extension": ".py",
   "mimetype": "text/x-python",
   "name": "python",
   "nbconvert_exporter": "python",
   "pygments_lexer": "ipython3",
   "version": "3.6.10"
  }
 },
 "nbformat": 4,
 "nbformat_minor": 4
}
